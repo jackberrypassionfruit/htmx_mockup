{
 "cells": [
  {
   "cell_type": "code",
   "execution_count": 1,
   "metadata": {},
   "outputs": [],
   "source": [
    "import sys, os\n",
    "\n",
    "project_dir = \"/serialize/\"\n",
    "sys.path.append(project_dir)\n",
    "os.environ[\"DJANGO_SETTINGS_MODULE\"] = \"my_project.settings\"\n",
    "# os.environ.setdefault(\"DJANGO_SETTINGS_MODULE\", __file__)\n",
    "\n",
    "import django\n",
    "from django.db.models import Count, Q\n",
    "\n",
    "django.setup()\n",
    "\n",
    "from serialize.models import SerializeMaster\n",
    "import sys\n",
    "import asyncio"
   ]
  },
  {
   "cell_type": "code",
   "execution_count": 2,
   "metadata": {},
   "outputs": [],
   "source": [
    "\n",
    "# total_parts = SerializeMaster.objects.count()\n",
    "# print(f\"{total_parts=}\")"
   ]
  },
  {
   "cell_type": "code",
   "execution_count": 3,
   "metadata": {},
   "outputs": [],
   "source": [
    "\n",
    "# total_not_scrapped = (\n",
    "#     SerializeMaster.objects.filter(Q(scrapped=\"NULL\")).values().count()\n",
    "#     # SerializeMaster.objects.filter(scrapped__exact=\"NULL\").values().count()\n",
    "# )\n",
    "# print(f\"{total_not_scrapped=}\")"
   ]
  },
  {
   "cell_type": "code",
   "execution_count": 5,
   "metadata": {},
   "outputs": [
    {
     "ename": "RuntimeError",
     "evalue": "This event loop is already running",
     "output_type": "error",
     "traceback": [
      "\u001b[31m---------------------------------------------------------------------------\u001b[39m",
      "\u001b[31mRuntimeError\u001b[39m                              Traceback (most recent call last)",
      "\u001b[36mCell\u001b[39m\u001b[36m \u001b[39m\u001b[32mIn[5]\u001b[39m\u001b[32m, line 13\u001b[39m\n\u001b[32m     10\u001b[39m \u001b[38;5;66;03m# not_scrapped_by_job = await get_not_scrapped_by_job()\u001b[39;00m\n\u001b[32m     12\u001b[39m loop = asyncio.get_event_loop()\n\u001b[32m---> \u001b[39m\u001b[32m13\u001b[39m \u001b[43mloop\u001b[49m\u001b[43m.\u001b[49m\u001b[43mrun_until_complete\u001b[49m\u001b[43m(\u001b[49m\u001b[43mget_not_scrapped_by_job\u001b[49m\u001b[43m(\u001b[49m\u001b[43m)\u001b[49m\u001b[43m)\u001b[49m\n\u001b[32m     14\u001b[39m loop.close()\n",
      "\u001b[36mFile \u001b[39m\u001b[32m~/.local/share/uv/python/cpython-3.14.0a6-linux-x86_64-gnu/lib/python3.14/asyncio/base_events.py:695\u001b[39m, in \u001b[36mBaseEventLoop.run_until_complete\u001b[39m\u001b[34m(self, future)\u001b[39m\n\u001b[32m    684\u001b[39m \u001b[38;5;250m\u001b[39m\u001b[33;03m\"\"\"Run until the Future is done.\u001b[39;00m\n\u001b[32m    685\u001b[39m \n\u001b[32m    686\u001b[39m \u001b[33;03mIf the argument is a coroutine, it is wrapped in a Task.\u001b[39;00m\n\u001b[32m   (...)\u001b[39m\u001b[32m    692\u001b[39m \u001b[33;03mReturn the Future's result, or raise its exception.\u001b[39;00m\n\u001b[32m    693\u001b[39m \u001b[33;03m\"\"\"\u001b[39;00m\n\u001b[32m    694\u001b[39m \u001b[38;5;28mself\u001b[39m._check_closed()\n\u001b[32m--> \u001b[39m\u001b[32m695\u001b[39m \u001b[38;5;28;43mself\u001b[39;49m\u001b[43m.\u001b[49m\u001b[43m_check_running\u001b[49m\u001b[43m(\u001b[49m\u001b[43m)\u001b[49m\n\u001b[32m    697\u001b[39m new_task = \u001b[38;5;129;01mnot\u001b[39;00m futures.isfuture(future)\n\u001b[32m    698\u001b[39m future = tasks.ensure_future(future, loop=\u001b[38;5;28mself\u001b[39m)\n",
      "\u001b[36mFile \u001b[39m\u001b[32m~/.local/share/uv/python/cpython-3.14.0a6-linux-x86_64-gnu/lib/python3.14/asyncio/base_events.py:631\u001b[39m, in \u001b[36mBaseEventLoop._check_running\u001b[39m\u001b[34m(self)\u001b[39m\n\u001b[32m    629\u001b[39m \u001b[38;5;28;01mdef\u001b[39;00m\u001b[38;5;250m \u001b[39m\u001b[34m_check_running\u001b[39m(\u001b[38;5;28mself\u001b[39m):\n\u001b[32m    630\u001b[39m     \u001b[38;5;28;01mif\u001b[39;00m \u001b[38;5;28mself\u001b[39m.is_running():\n\u001b[32m--> \u001b[39m\u001b[32m631\u001b[39m         \u001b[38;5;28;01mraise\u001b[39;00m \u001b[38;5;167;01mRuntimeError\u001b[39;00m(\u001b[33m'\u001b[39m\u001b[33mThis event loop is already running\u001b[39m\u001b[33m'\u001b[39m)\n\u001b[32m    632\u001b[39m     \u001b[38;5;28;01mif\u001b[39;00m events._get_running_loop() \u001b[38;5;129;01mis\u001b[39;00m \u001b[38;5;129;01mnot\u001b[39;00m \u001b[38;5;28;01mNone\u001b[39;00m:\n\u001b[32m    633\u001b[39m         \u001b[38;5;28;01mraise\u001b[39;00m \u001b[38;5;167;01mRuntimeError\u001b[39;00m(\n\u001b[32m    634\u001b[39m             \u001b[33m'\u001b[39m\u001b[33mCannot run the event loop while another loop is running\u001b[39m\u001b[33m'\u001b[39m)\n",
      "\u001b[31mRuntimeError\u001b[39m: This event loop is already running"
     ]
    }
   ],
   "source": [
    "async def get_not_scrapped_by_job():\n",
    "    not_scrapped_by_job = (\n",
    "        await SerializeMaster.objects.filter(Q(scrapped=\"NULL\"))\n",
    "        .values(\"job_number\")\n",
    "        .annotate(qty_parts=Count(\"part_id\"))\n",
    "        # SerializeMaster.objects.filter(scrapped__exact=\"NULL\").values().count()\n",
    "    )\n",
    "    # return not_scrapped_by_job\n",
    "    print(f\"{not_scrapped_by_job=}\")\n",
    "# not_scrapped_by_job = await get_not_scrapped_by_job()\n",
    "\n",
    "loop = asyncio.get_event_loop()\n",
    "loop.run_until_complete(get_not_scrapped_by_job())\n",
    "loop.close()"
   ]
  }
 ],
 "metadata": {
  "kernelspec": {
   "display_name": "htmx-chub",
   "language": "python",
   "name": "python3"
  },
  "language_info": {
   "codemirror_mode": {
    "name": "ipython",
    "version": 3
   },
   "file_extension": ".py",
   "mimetype": "text/x-python",
   "name": "python",
   "nbconvert_exporter": "python",
   "pygments_lexer": "ipython3",
   "version": "3.14.0a6"
  }
 },
 "nbformat": 4,
 "nbformat_minor": 2
}
